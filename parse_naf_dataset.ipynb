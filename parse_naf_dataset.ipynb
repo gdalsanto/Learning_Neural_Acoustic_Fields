{
 "cells": [
  {
   "cell_type": "markdown",
   "metadata": {},
   "source": [
    "# Parse NAF Dataset (.pkl)\n",
    "This notebook loads the NAF dataset from a .pkl file, parses it into a dataclass, and prints a summary."
   ]
  },
  {
   "cell_type": "code",
   "execution_count": 4,
   "metadata": {},
   "outputs": [],
   "source": [
    "import dataclasses \n",
    "from typing import Any\n",
    "import numpy as np\n",
    "from numpy.typing import NDArray, ArrayLike\n",
    "import pickle\n",
    "import os\n"
   ]
  },
  {
   "cell_type": "code",
   "execution_count": 5,
   "metadata": {},
   "outputs": [],
   "source": [
    "@dataclasses.dataclass\n",
    "class NAFDataset:\n",
    "    num_train_receivers: int \n",
    "    num_infer_receivers: int\n",
    "    train_receiver_pos: NDArray\n",
    "    infer_receiver_pos: NDArray\n",
    "    train_brirs: NDArray\n",
    "    infer_brirs: NDArray\n",
    "    orientation: ArrayLike\n"
   ]
  },
  {
   "cell_type": "code",
   "execution_count": 6,
   "metadata": {},
   "outputs": [],
   "source": [
    "# Path to the .pkl file\n",
    "pkl_path = os.path.join('data', 'naf_dataset_grid_spacing=0.6m.pkl')\n",
    "\n",
    "# Load the .pkl file (this may take a while if the file is large)\n",
    "with open(pkl_path, 'rb') as f:\n",
    "    raw_data = pickle.load(f)\n"
   ]
  },
  {
   "cell_type": "code",
   "execution_count": 8,
   "metadata": {},
   "outputs": [
    {
     "name": "stdout",
     "output_type": "stream",
     "text": [
      "NAFDataset summary:\n",
      "num_train_receivers: 231\n",
      "num_infer_receivers: 607\n",
      "train_receiver_pos shape: (231, 3)\n",
      "infer_receiver_pos shape: (607, 3)\n",
      "train_brirs shape: (231, 4, 131072, 2)\n",
      "infer_brirs shape: (607, 4, 131072, 2)\n",
      "orientation: [0. 0.]\n"
     ]
    }
   ],
   "source": [
    "# --- Print a summary of the parsed dataclass ---\n",
    "from pprint import pprint\n",
    "print('NAFDataset summary:')\n",
    "print(f'num_train_receivers: {raw_data.num_train_receivers}')\n",
    "print(f'num_infer_receivers: {raw_data.num_infer_receivers}')\n",
    "print(f'train_receiver_pos shape: {np.shape(raw_data.train_receiver_pos)}')\n",
    "print(f'infer_receiver_pos shape: {np.shape(raw_data.infer_receiver_pos)}')\n",
    "print(f'train_brirs shape: {np.shape(raw_data.train_brirs)}')\n",
    "print(f'infer_brirs shape: {np.shape(raw_data.infer_brirs)}')\n",
    "print(f'orientation: {raw_data.orientation}')\n"
   ]
  }
 ],
 "metadata": {
  "kernelspec": {
   "display_name": "naf-env",
   "language": "python",
   "name": "python3"
  },
  "language_info": {
   "codemirror_mode": {
    "name": "ipython",
    "version": 3
   },
   "file_extension": ".py",
   "mimetype": "text/x-python",
   "name": "python",
   "nbconvert_exporter": "python",
   "pygments_lexer": "ipython3",
   "version": "3.10.14"
  }
 },
 "nbformat": 4,
 "nbformat_minor": 2
}
